{
 "cells": [
  {
   "cell_type": "markdown",
   "metadata": {},
   "source": [
    "# Agent-based modelling\n",
    "## Continuous Schelling's model\n",
    "### Authors: K. Zakharov, D. Sobolev"
   ]
  },
  {
   "cell_type": "code",
   "execution_count": 1,
   "metadata": {},
   "outputs": [],
   "source": [
    "#!pip install ipywidgets\n",
    "import ipywidgets as widgets\n",
    "from ipywidgets import interact, interactive\n",
    "import numpy as np\n",
    "import random\n",
    "from random import uniform\n",
    "from math import sqrt\n",
    "import matplotlib.pyplot as plt\n",
    "from IPython.display import display\n",
    "%matplotlib inline"
   ]
  },
  {
   "cell_type": "code",
   "execution_count": 2,
   "metadata": {},
   "outputs": [],
   "source": [
    "np.random.seed(10)\n",
    "\n",
    "def f(x):\n",
    "    if x:\n",
    "        friendly_p.disabled = False\n",
    "        friendly_p.value = 0.75\n",
    "    else:\n",
    "        friendly_p.disabled = True\n",
    "        friendly_p.value = 0\n",
    "\n",
    "class Agent:\n",
    "\n",
    "    def __init__(self, a_type, tolerance_p, friendly, friendly_p, assimilation_p):\n",
    "        self.a_type = a_type\n",
    "        self.change_location()\n",
    "        self.tol = round(uniform(0, 1), 4)\n",
    "        self.fr = round(uniform(0, 1), 2)\n",
    "        self.friendly = friendly\n",
    "        self.assimilation = random.randint(0, 100)\n",
    "\n",
    "    def change_location(self):\n",
    "        self.location = round(uniform(0, 1),4), round(uniform(0, 1),4)\n",
    "\n",
    "    def get_distance(self, other):\n",
    "        a = (self.location[0] - other.location[0])**2\n",
    "        b = (self.location[1] - other.location[1])**2\n",
    "        return sqrt(a + b)\n",
    "\n",
    "    def happy(self, agents):\n",
    "        distances = []\n",
    "        for agent in agents:\n",
    "            if self != agent:\n",
    "                distance = self.get_distance(agent)\n",
    "                distances.append((distance, agent))\n",
    "        distances.sort(key=lambda x: x[0])\n",
    "        neighbors = [agent for d, agent in distances[:local_neighbors.value]]\n",
    "\n",
    "        num_same_type = sum(self.a_type == agent.a_type for agent in neighbors)\n",
    "        return num_same_type >= require_same_type.value\n",
    "\n",
    "    def update(self, agents):\n",
    "        while not self.happy(agents):\n",
    "            if not self.friendly:\n",
    "                if self.tol < tolerance_p.value and self.assimilation < assimilation_p.value:\n",
    "                    self.change_location()\n",
    "                elif self.tol < tolerance_p.value and self.assimilation > assimilation_p.value:\n",
    "                    if self.a_type == 0 or self.a_type == 1:\n",
    "                        self.a_type = 2\n",
    "                        return\n",
    "                    elif self.a_type == 1 or self.a_type == 2:\n",
    "                        self.a_type = 0\n",
    "                        return\n",
    "                    else:\n",
    "                        self.a_type = 1\n",
    "                        return\n",
    "                elif self.tol > tolerance_p.value and self.assimilation < assimilation_p.value:\n",
    "                    self.change_location()\n",
    "                else:\n",
    "                    return\n",
    "            else:\n",
    "                if self.tol < tolerance_p.value and self.fr > friendly_p.value and self.assimilation < assimilation_p.value:\n",
    "                    self.change_location()\n",
    "                elif self.tol < tolerance_p.value and self.fr > friendly_p.value and self.assimilation > assimilation_p.value:\n",
    "                    if self.a_type == 0 or self.a_type == 1:\n",
    "                        self.a_type = 2\n",
    "                        return\n",
    "                    elif self.a_type == 1 or self.a_type == 2:\n",
    "                        self.a_type = 0\n",
    "                        return\n",
    "                    else:\n",
    "                        self.a_type = 1\n",
    "                        return\n",
    "            \n",
    "                elif self.tol > tolerance_p.value and self.fr > friendly_p.value and self.assimilation > assimilation_p.value:\n",
    "                    if self.a_type == 0 or self.a_type == 1:\n",
    "                        self.a_type = 2\n",
    "                        return\n",
    "                    elif self.a_type == 1 or self.a_type == 2:\n",
    "                        self.a_type = 0\n",
    "                        return\n",
    "                    else:\n",
    "                        self.a_type = 1\n",
    "                        return\n",
    "                elif self.tol > tolerance_p.value and self.fr > friendly_p.value and self.assimilation < assimilation_p.value:\n",
    "                    self.change_location()\n",
    "                elif self.tol < tolerance_p.value and self.fr < friendly_p.value and self.assimilation < assimilation_p.value:\n",
    "                    self.change_location()\n",
    "                elif self.tol < tolerance_p.value and self.fr < friendly_p.value and self.assimilation > assimilation_p.value:\n",
    "                    self.change_location()    \n",
    "                elif self.tol > tolerance_p.value and self.fr < friendly_p.value and self.assimilation > assimilation_p.value:\n",
    "                    if self.a_type == 0 or self.a_type == 1:\n",
    "                        self.a_type = 2\n",
    "                        return\n",
    "                    elif self.a_type == 1 or self.a_type == 2:\n",
    "                        self.a_type = 0\n",
    "                        return\n",
    "                    else:\n",
    "                        self.a_type = 1\n",
    "                        return\n",
    "                elif self.tol > tolerance_p.value and self.fr < friendly_p.value and self.assimilation < assimilation_p.value:\n",
    "                    self.change_location()\n",
    "                else:\n",
    "                    return\n",
    "                    \n",
    "def plot_distribution(agents, cycle_num):\n",
    "    x_values_0, y_values_0 = [], []\n",
    "    x_values_1, y_values_1 = [], []\n",
    "    x_values_2, y_values_2 = [], []\n",
    "    for agent in agents:\n",
    "        x, y = agent.location\n",
    "        if agent.a_type == 0:\n",
    "            x_values_0.append(x)\n",
    "            y_values_0.append(y)\n",
    "        elif agent.a_type ==1:\n",
    "            x_values_1.append(x)\n",
    "            y_values_1.append(y)\n",
    "        else:\n",
    "            x_values_2.append(x)\n",
    "            y_values_2.append(y)\n",
    "    fig, ax = plt.subplots(figsize=(8, 8))\n",
    "    plot_args = {'markersize': 8, 'alpha': 1}\n",
    "    ax.set_facecolor('white')\n",
    "    ax.plot(x_values_0, y_values_0, 'o', markerfacecolor='black', **plot_args)\n",
    "    ax.plot(x_values_1, y_values_1, 'o', markerfacecolor='yellow', **plot_args)\n",
    "    ax.plot(x_values_2, y_values_2, 'o', markerfacecolor='lime', **plot_args)\n",
    "    ax.set_title(f'Step {cycle_num-1}')\n",
    "    plt.show()\n",
    "\n",
    "def function():\n",
    "    agents = [Agent(0, tolerance_p.value, True, friendly_p.value, assimilation_p.value) for i in range(number_of_type0.value)]\n",
    "    agents.extend(Agent(1, tolerance_p.value, False, friendly_p.value, assimilation_p.value) for i in range(number_of_type1.value))\n",
    "    agents.extend(Agent(2, tolerance_p.value, True, friendly_p.value, assimilation_p.value) for i in range(number_of_type2.value))\n",
    "    \n",
    "    count = 1\n",
    "    while True:\n",
    "        plot_distribution(agents, count)\n",
    "        count += 1\n",
    "        no_one_moved = True\n",
    "        for agent in agents:\n",
    "            old_location = agent.location\n",
    "            agent.update(agents)\n",
    "            if agent.location != old_location:\n",
    "                no_one_moved = False\n",
    "        if no_one_moved:\n",
    "            break"
   ]
  },
  {
   "cell_type": "code",
   "execution_count": 7,
   "metadata": {
    "scrolled": false
   },
   "outputs": [
    {
     "data": {
      "application/vnd.jupyter.widget-view+json": {
       "model_id": "c7d82088711e4862b631529ea7512bc3",
       "version_major": 2,
       "version_minor": 0
      },
      "text/plain": [
       "IntText(value=450, description='Type 0')"
      ]
     },
     "metadata": {},
     "output_type": "display_data"
    },
    {
     "data": {
      "application/vnd.jupyter.widget-view+json": {
       "model_id": "e8b77ca652894d118f4b4ef57dc63168",
       "version_major": 2,
       "version_minor": 0
      },
      "text/plain": [
       "IntText(value=250, description='Type 1')"
      ]
     },
     "metadata": {},
     "output_type": "display_data"
    },
    {
     "data": {
      "application/vnd.jupyter.widget-view+json": {
       "model_id": "8eee002ef47845dabb56606dfc13c426",
       "version_major": 2,
       "version_minor": 0
      },
      "text/plain": [
       "IntText(value=300, description='Type 2')"
      ]
     },
     "metadata": {},
     "output_type": "display_data"
    },
    {
     "data": {
      "application/vnd.jupyter.widget-view+json": {
       "model_id": "05424e4f5a9b4236b0ad1bbac41071b1",
       "version_major": 2,
       "version_minor": 0
      },
      "text/plain": [
       "IntSlider(value=7, continuous_update=False, description='Neighbours', max=10)"
      ]
     },
     "metadata": {},
     "output_type": "display_data"
    },
    {
     "data": {
      "application/vnd.jupyter.widget-view+json": {
       "model_id": "696fddc8afdf47ffaa2d97d1a21ea487",
       "version_major": 2,
       "version_minor": 0
      },
      "text/plain": [
       "IntSlider(value=5, continuous_update=False, description='Same type', max=10)"
      ]
     },
     "metadata": {},
     "output_type": "display_data"
    },
    {
     "data": {
      "application/vnd.jupyter.widget-view+json": {
       "model_id": "9d1d8e7783a8432aad9baac1ac6418c3",
       "version_major": 2,
       "version_minor": 0
      },
      "text/plain": [
       "FloatSlider(value=0.7, continuous_update=False, description='Tolerance', max=1.0, step=0.01)"
      ]
     },
     "metadata": {},
     "output_type": "display_data"
    },
    {
     "data": {
      "application/vnd.jupyter.widget-view+json": {
       "model_id": "a0332a668ef641578340947bdd859b6a",
       "version_major": 2,
       "version_minor": 0
      },
      "text/plain": [
       "interactive(children=(Checkbox(value=False, description='Friendly'), Output()), _dom_classes=('widget-interact…"
      ]
     },
     "metadata": {},
     "output_type": "display_data"
    },
    {
     "data": {
      "application/vnd.jupyter.widget-view+json": {
       "model_id": "f77ab9f34e05475ebdb7fb92e49982e8",
       "version_major": 2,
       "version_minor": 0
      },
      "text/plain": [
       "FloatSlider(value=0.0, continuous_update=False, description='Friendly', disabled=True, max=1.0, step=0.01)"
      ]
     },
     "metadata": {},
     "output_type": "display_data"
    },
    {
     "data": {
      "application/vnd.jupyter.widget-view+json": {
       "model_id": "45ad07d9d5d043c98549fc7b403b7f34",
       "version_major": 2,
       "version_minor": 0
      },
      "text/plain": [
       "IntSlider(value=30, continuous_update=False, description='Assimilation')"
      ]
     },
     "metadata": {},
     "output_type": "display_data"
    },
    {
     "data": {
      "application/vnd.jupyter.widget-view+json": {
       "model_id": "2037641af42f497c9ed0d6681f31f2cf",
       "version_major": 2,
       "version_minor": 0
      },
      "text/plain": [
       "Button(button_style='info', description='Simulate', style=ButtonStyle())"
      ]
     },
     "metadata": {},
     "output_type": "display_data"
    },
    {
     "data": {
      "application/vnd.jupyter.widget-view+json": {
       "model_id": "ebdb59010f1d42009b5a027e1c53f51d",
       "version_major": 2,
       "version_minor": 0
      },
      "text/plain": [
       "Output()"
      ]
     },
     "metadata": {},
     "output_type": "display_data"
    }
   ],
   "source": [
    "#количество агентов типа 0\n",
    "number_of_type0 = widgets.IntText(\n",
    "    value = 450,\n",
    "    description=\"Type 0\")\n",
    "display(number_of_type0)\n",
    "\n",
    "#количество агентов типа 1\n",
    "number_of_type1 = widgets.IntText(\n",
    "    value = 250,\n",
    "    description=\"Type 1\")\n",
    "display(number_of_type1)\n",
    "\n",
    "#количество агентов типа 2\n",
    "number_of_type2 = widgets.IntText(\n",
    "    value = 300,\n",
    "    description=\"Type 2\")\n",
    "display(number_of_type2)\n",
    "\n",
    "#количество соседей\n",
    "local_neighbors = widgets.IntSlider(\n",
    "    value=7,\n",
    "    min=0,\n",
    "    max=10,\n",
    "    step=1,\n",
    "    description='Neighbours',\n",
    "    disabled=False,\n",
    "    continuous_update=False,\n",
    "    orientation='horizontal',\n",
    "    readout=True,\n",
    "    readout_format='d'\n",
    ")\n",
    "display(local_neighbors)\n",
    "\n",
    "#reqires same time\n",
    "require_same_type = widgets.IntSlider(\n",
    "    value=5,\n",
    "    min=0,\n",
    "    max=10,\n",
    "    step=1,\n",
    "    description='Same type',\n",
    "    disabled=False,\n",
    "    continuous_update=False,\n",
    "    orientation='horizontal',\n",
    "    readout=True,\n",
    "    readout_format='d'\n",
    ")\n",
    "display(require_same_type)\n",
    "\n",
    "#процент толерантности\n",
    "tolerance_p = widgets.FloatSlider(\n",
    "    value=0.7,\n",
    "    min=0,\n",
    "    max=1.0,\n",
    "    step=0.01,\n",
    "    description='Tolerance',\n",
    "    disabled=False,\n",
    "    continuous_update=False,\n",
    "    orientation='horizontal',\n",
    ")\n",
    "display(tolerance_p)\n",
    "\n",
    "#use friendly\n",
    "\n",
    "interact(f, x=widgets.Checkbox(description='Friendly',disabled=False))\n",
    "\n",
    "#процент дружелюбности\n",
    "friendly_p = widgets.FloatSlider(\n",
    "    value=0,\n",
    "    min=0,\n",
    "    max=1.0,\n",
    "    step=0.01,\n",
    "    description='Friendly',\n",
    "    disabled=True,\n",
    "    continuous_update=False,\n",
    "    orientation='horizontal',\n",
    ")\n",
    "display(friendly_p)\n",
    "\n",
    "#процент ассимиляции\n",
    "assimilation_p = widgets.IntSlider(\n",
    "    value=30,\n",
    "    min=0,\n",
    "    max=100,\n",
    "    step=1,\n",
    "    description='Assimilation',\n",
    "    disabled=False,\n",
    "    continuous_update=False,\n",
    "    orientation='horizontal',\n",
    "    readout=True,\n",
    "    readout_format='d'\n",
    ")\n",
    "display(assimilation_p)\n",
    "\n",
    "\n",
    "\n",
    "button = widgets.Button(description=\"Simulate\", button_style='info')\n",
    "output = widgets.Output()\n",
    "\n",
    "display(button, output)\n",
    "\n",
    "def on_button_clicked(a):\n",
    "    function()\n",
    "\n",
    "button.on_click(on_button_clicked)"
   ]
  },
  {
   "cell_type": "code",
   "execution_count": null,
   "metadata": {},
   "outputs": [],
   "source": []
  }
 ],
 "metadata": {
  "kernelspec": {
   "display_name": "Python 3",
   "language": "python",
   "name": "python3"
  },
  "language_info": {
   "codemirror_mode": {
    "name": "ipython",
    "version": 3
   },
   "file_extension": ".py",
   "mimetype": "text/x-python",
   "name": "python",
   "nbconvert_exporter": "python",
   "pygments_lexer": "ipython3",
   "version": "3.6.4"
  }
 },
 "nbformat": 4,
 "nbformat_minor": 2
}
