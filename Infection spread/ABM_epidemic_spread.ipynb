{
 "cells": [
  {
   "cell_type": "markdown",
   "metadata": {},
   "source": [
    "# Agent based model of infection spread\n",
    "### Author: Kirill Zakharov"
   ]
  },
  {
   "cell_type": "code",
   "execution_count": 1,
   "metadata": {},
   "outputs": [],
   "source": [
    "import ipywidgets as widgets\n",
    "from ipywidgets import interact, interactive\n",
    "import numpy as np\n",
    "import random\n",
    "from random import uniform\n",
    "from math import sqrt\n",
    "import matplotlib.pyplot as plt\n",
    "from IPython.display import display\n",
    "from enum import Enum\n",
    "%matplotlib inline"
   ]
  },
  {
   "cell_type": "code",
   "execution_count": 78,
   "metadata": {},
   "outputs": [],
   "source": [
    "np.random.seed(10)\n",
    "\n",
    "class Status(Enum):\n",
    "    \"\"\"\n",
    "    Agent status\n",
    "    \"\"\"\n",
    "    Suspicious = 's'\n",
    "    Infected = 'i'\n",
    "    Healthy = 'h'\n",
    "    Recovered = 'r'\n",
    "\n",
    "class Immunity(Enum):\n",
    "    \"\"\"\n",
    "    Agent immunity to infection\n",
    "    \"\"\"\n",
    "    High_Immunity = 'hi'\n",
    "    Middle_Immunity = 'mi'\n",
    "    Low_Immunity = 'li'\n",
    "    \n",
    "class Agent:\n",
    "\n",
    "    def __init__(self, **kwargs):\n",
    "        self.status = kwargs.get(\"status\", Status.Suspicious) #one from three possible status\n",
    "        self.immunity = kwargs.get(\"immunity\", Immunity.Middle_Immunity) #one from three possible immunity\n",
    "        self.x = kwargs.get(\"x\", 0.1) #postition X\n",
    "        self.y = kwargs.get(\"y\", 0.1) #position Y\n",
    "        self.k = kwargs.get(\"k\", 5) #the number of contacts\n",
    "        self.age = kwargs.get(\"age\", 30) #age of the agent\n",
    "        \n",
    "        self.location = (self.x, self.y)\n",
    "        self.isolated = []\n",
    "        self.inf_prec = 50\n",
    "        self.home_s = True\n",
    "        self.time = 0\n",
    "        \n",
    "\n",
    "    def change_location(self):\n",
    "        self.x, self.y = round(uniform(0, 1),4), round(uniform(0, 1),4)\n",
    "        self.location = (self.x, self.y)\n",
    "\n",
    "    def _distance(self, other):\n",
    "        return sqrt((self.x - other.x)**2 + (self.y - other.y)**2)\n",
    "    \n",
    "\n",
    "    def near_people(self, agents): #find the near k people \n",
    "        distances = []\n",
    "        for agent in agents[:self.k]:\n",
    "            if self != agent:\n",
    "                dist = self._distance(agent)\n",
    "                distances.append((dist, agent))\n",
    "        distances.sort(key=lambda x: x[0])\n",
    "        nears = [(d, agent) for d, agent in distances] #sorted by the distances\n",
    "\n",
    "        return nears\n",
    "    \n",
    "    def home_status(self, time):\n",
    "        #determine the home time\n",
    "        if time < 9 or time > 21:\n",
    "            return True\n",
    "        else:\n",
    "            return False\n",
    "    \n",
    "    def test_infection(self): #this function only for suspicious agents, checks for infection\n",
    "        test_infection = random.randint(0, 100)\n",
    "        if test_infection >= self.inf_prec:\n",
    "            return True #if the test is positive\n",
    "        else:\n",
    "            return False\n",
    "    \n",
    "    def inf_check(self, delta, agents): #if the distance less than delta the agent is infected\n",
    "        nears = self.near_people(agents)\n",
    "        for near in nears:\n",
    "            if near[0] <= delta and self.immunity.value == 'li':\n",
    "                self.status = Status.Infected\n",
    "                \n",
    "            elif near[0] <= delta and self.immunity.value == 'mi':\n",
    "                if self.status.value == 'h':\n",
    "                    self.status = Status.Suspicious\n",
    "                elif self.status.value == 's':\n",
    "                    self.status = Status.Infected\n",
    "                else:\n",
    "                    return\n",
    "                \n",
    "            elif near[0] <= delta and self.immunity.value == 'hi':\n",
    "                if self.status.value == 'h':\n",
    "                    self.immunity = Immunity.Middle_Immunity\n",
    "                elif self.status.value == 's':\n",
    "                    self.immunity = Immunity.Low_Immunity\n",
    "                else:\n",
    "                    return\n",
    "            elif near[0] > delta and self.immunity.value == 'hi' and self.test_infection():\n",
    "                if self.status.value == 's':\n",
    "                    self.status = Status.Healthy\n",
    "                else:\n",
    "                    return\n",
    "            else:\n",
    "                return\n",
    "        return\n",
    "        \n",
    "    \n",
    "    def move(self, delta, population): #the main function for moving on the map\n",
    "        self.time += 1\n",
    "        self.home_s = self.home_status(self.time)\n",
    "        self.change_location()\n",
    "        self.inf_check(delta, population)\n",
    "        if self.status.value == 's' and self not in self.isolated and not self.home_s:\n",
    "            if self.test_infection():\n",
    "                self.status = Status.Infected\n",
    "            else:\n",
    "                self.isolated.append(self)\n",
    "        if self.status.value == 'i':\n",
    "            if self.age > death_limit and self.immunity.value == 'li': #condition for death\n",
    "                population.remove(self)\n",
    "            elif self.age > death_limit and self.immunity.value == 'hi' and self not in self.isolated:\n",
    "                self.isolated.append(self)\n",
    "            else: return    \n",
    "\n",
    "class Environmental(Agent):\n",
    "    day = 12        \n",
    "\n",
    "def create_agent(population, status): #function for creating one agent\n",
    "        \"\"\"\n",
    "        Create a new agent\n",
    "        \"\"\"\n",
    "        x, y = round(uniform(0, 1),4), round(uniform(0, 1),4) #position\n",
    "        age = random.randint(1, 100) #age\n",
    "        k = random.randint(0, 40) #the number of contacts\n",
    "        immunity = random.choice([Immunity.High_Immunity, Immunity.Middle_Immunity, Immunity.Low_Immunity])\n",
    "        \n",
    "        population.append(Agent(x=x, y=y, age=age, k=k, status=status, immunity=immunity))\n",
    "        return\n",
    "        \n",
    "def initialize(population, num_p, num_inf): #create the population\n",
    "        # Initial infected population\n",
    "        for _ in range(num_p*num_inf//100):\n",
    "            create_agent(population, Status.Infected)\n",
    "\n",
    "        # Initial healthy population\n",
    "        for _ in range((num_p - len(population))//2):\n",
    "            create_agent(population, Status.Healthy)\n",
    "\n",
    "        # Initial suspicious population\n",
    "        for _ in range(num_p - len(population)):\n",
    "            create_agent(population, Status.Suspicious)\n",
    "        \n",
    "        return\n",
    "        \n",
    "\n",
    "    "
   ]
  },
  {
   "cell_type": "code",
   "execution_count": 105,
   "metadata": {},
   "outputs": [
    {
     "data": {
      "text/plain": [
       "2000"
      ]
     },
     "execution_count": 105,
     "metadata": {},
     "output_type": "execute_result"
    }
   ],
   "source": [
    "num_p = 2000 #the number of people in population\n",
    "population = []\n",
    "delta = 0.01 #velocity of the infection spread\n",
    "num_inf = 20 #the beginning percent of infected people\n",
    "death_limit = random.randint(80, 100)\n",
    "recovered_time = 4\n",
    "\n",
    "initialize(population, num_p, num_inf) #creating the population\n",
    "len(population)"
   ]
  },
  {
   "cell_type": "code",
   "execution_count": 107,
   "metadata": {
    "scrolled": true
   },
   "outputs": [],
   "source": [
    "def plot_distribution(population, cycle_num):\n",
    "    x_values_0, y_values_0 = [], []\n",
    "    x_values_1, y_values_1 = [], []\n",
    "    x_values_2, y_values_2 = [], []\n",
    "    x_values_3, y_values_3 = [], []\n",
    "    for agent in population:\n",
    "        x, y = agent.location\n",
    "        if agent.status.value == 'i':\n",
    "            x_values_0.append(x)\n",
    "            y_values_0.append(y)\n",
    "        elif agent.status.value == 'h':\n",
    "            x_values_1.append(x)\n",
    "            y_values_1.append(y)\n",
    "        elif agent.status.value == 's':\n",
    "            x_values_2.append(x)\n",
    "            y_values_2.append(y)\n",
    "        else:\n",
    "            x_values_3.append(x)\n",
    "            y_values_3.append(y)\n",
    "    fig, ax = plt.subplots(figsize=(8, 8))\n",
    "    plot_args = {'markersize': 6, 'alpha': 1}\n",
    "    ax.set_facecolor('white')\n",
    "    ax.plot(x_values_0, y_values_0, 'o', c='red', **plot_args)\n",
    "    ax.plot(x_values_1, y_values_1, 'o', c='lime', **plot_args)\n",
    "    ax.plot(x_values_2, y_values_2, 'o', c='black', **plot_args)\n",
    "    ax.plot(x_values_3, y_values_3, 'o', c='blue', **plot_args)\n",
    "    ax.set_title(f'Step {cycle_num}')\n",
    "    plt.show()\n",
    "\n",
    "count = 1\n",
    "\n",
    "while True:\n",
    "    healthy = []\n",
    "    infected = [(1,1)]\n",
    "    for agent in population:\n",
    "        if agent.status.value == 'h' and agent not in healthy:\n",
    "            healthy.append(agent)\n",
    "#         if agent.status.value == 'i' and agent.age < death_limit and agent not in list(zip(*infected))[0]:\n",
    "#             infected.append((agent, count))\n",
    "        \n",
    "    if len(healthy) >= ((num_p - num_inf)//2)*20//100:\n",
    "        plot_distribution(population, count)\n",
    "        count += 1\n",
    "        for _ in range(Environmental.day):\n",
    "            for agent in population:\n",
    "                agent.move(delta, population)\n",
    "#                 infected_1 = list(zip(*infected))[0]\n",
    "#                 if agent in infected_1:\n",
    "#                     pos = infected_1.index(agent)\n",
    "#                     if list(zip(*infected))[1][pos]%recovered_time == 0:\n",
    "#                         agent.status = Status.Recovered\n",
    "    else:\n",
    "        break\n",
    "            "
   ]
  },
  {
   "cell_type": "code",
   "execution_count": null,
   "metadata": {},
   "outputs": [],
   "source": [
    "num_p-len(population) #the number of deaths"
   ]
  },
  {
   "cell_type": "code",
   "execution_count": 99,
   "metadata": {},
   "outputs": [
    {
     "data": {
      "text/plain": [
       "196"
      ]
     },
     "execution_count": 99,
     "metadata": {},
     "output_type": "execute_result"
    }
   ],
   "source": [
    "len(healthy)"
   ]
  },
  {
   "cell_type": "code",
   "execution_count": 100,
   "metadata": {},
   "outputs": [
    {
     "data": {
      "text/plain": [
       "1480"
      ]
     },
     "execution_count": 100,
     "metadata": {},
     "output_type": "execute_result"
    }
   ],
   "source": [
    "len(infected)"
   ]
  },
  {
   "cell_type": "code",
   "execution_count": null,
   "metadata": {},
   "outputs": [],
   "source": []
  }
 ],
 "metadata": {
  "kernelspec": {
   "display_name": "Python 3",
   "language": "python",
   "name": "python3"
  },
  "language_info": {
   "codemirror_mode": {
    "name": "ipython",
    "version": 3
   },
   "file_extension": ".py",
   "mimetype": "text/x-python",
   "name": "python",
   "nbconvert_exporter": "python",
   "pygments_lexer": "ipython3",
   "version": "3.6.4"
  }
 },
 "nbformat": 4,
 "nbformat_minor": 2
}
