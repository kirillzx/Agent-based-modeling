{
 "cells": [
  {
   "cell_type": "code",
   "execution_count": 4,
   "metadata": {},
   "outputs": [],
   "source": [
    "import random\n",
    "from math import sqrt"
   ]
  },
  {
   "cell_type": "code",
   "execution_count": 201,
   "metadata": {},
   "outputs": [],
   "source": [
    "def get_x(a, b):\n",
    "    try:\n",
    "        m = (a+b)//2\n",
    "        r = random.uniform(a, b)\n",
    "        if a <= r < m:\n",
    "            x = sqrt(r*(m-a)) + a\n",
    "        else:\n",
    "            x = b - sqrt((b-a-r)*(b-m))\n",
    "    except ValueError:\n",
    "        x = 1\n",
    "    return x, m    \n",
    "def triangular_distr(a, b):\n",
    "    temp1 = get_x(a, b)\n",
    "    x = temp1[0]\n",
    "    m = temp1[1]\n",
    "    res = 0\n",
    "    if x < a:\n",
    "        res = 0\n",
    "    elif a <= x < m:\n",
    "        res = ((x-a)**2)/(m-a)\n",
    "    elif m <= x < b:    \n",
    "        res = (b-a) - ((b-x)**2)/(b-m)    \n",
    "    else:\n",
    "        res = 1\n",
    "    return res  "
   ]
  },
  {
   "cell_type": "code",
   "execution_count": 213,
   "metadata": {},
   "outputs": [
    {
     "data": {
      "text/plain": [
       "23.821384896382877"
      ]
     },
     "execution_count": 213,
     "metadata": {},
     "output_type": "execute_result"
    }
   ],
   "source": [
    "triangular_distr(0, 100)"
   ]
  },
  {
   "cell_type": "code",
   "execution_count": null,
   "metadata": {},
   "outputs": [],
   "source": []
  }
 ],
 "metadata": {
  "kernelspec": {
   "display_name": "Python 3",
   "language": "python",
   "name": "python3"
  },
  "language_info": {
   "codemirror_mode": {
    "name": "ipython",
    "version": 3
   },
   "file_extension": ".py",
   "mimetype": "text/x-python",
   "name": "python",
   "nbconvert_exporter": "python",
   "pygments_lexer": "ipython3",
   "version": "3.6.4"
  }
 },
 "nbformat": 4,
 "nbformat_minor": 2
}
