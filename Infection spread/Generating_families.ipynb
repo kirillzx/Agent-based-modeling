{
 "cells": [
  {
   "cell_type": "code",
   "execution_count": 98,
   "metadata": {},
   "outputs": [],
   "source": [
    "import random"
   ]
  },
  {
   "cell_type": "code",
   "execution_count": 106,
   "metadata": {},
   "outputs": [],
   "source": [
    "class Agent:\n",
    "    def __init__(self, age):\n",
    "        self.age = age\n",
    "        self.family_status = False\n",
    "        self.gender = random.choice(['m', 'w'])\n",
    "        \n",
    "age_categories = {'children':[], 'mothers':[], 'fathers':[]}        \n",
    "def create_agent(population): #function for creating one agent  \n",
    "        age = random.randint(1, 100)\n",
    "        agent = Agent(age=age)\n",
    "        population.append(agent)\n",
    "        #separate population by categories\n",
    "        if age < 18:\n",
    "            age_categories['children'].append(agent) \n",
    "        elif 18 <= age <= 100:\n",
    "            if agent.gender == 'm':\n",
    "                age_categories['fathers'].append(agent)\n",
    "            else:\n",
    "                age_categories['mothers'].append(agent)\n",
    "        return\n",
    "        \n",
    "def initialize(population): #create the population\n",
    "        # Initial infected population\n",
    "        for _ in range(1000*10//100):\n",
    "            create_agent(population)\n",
    "\n",
    "        # Initial healthy population\n",
    "        for _ in range((1000 - len(population))//2):\n",
    "            create_agent(population)\n",
    "\n",
    "        # Initial susceptible population\n",
    "        for _ in range(1000 - len(population)):\n",
    "            create_agent(population)\n",
    "        \n",
    "        return"
   ]
  },
  {
   "cell_type": "code",
   "execution_count": 107,
   "metadata": {},
   "outputs": [
    {
     "data": {
      "text/plain": [
       "1000"
      ]
     },
     "execution_count": 107,
     "metadata": {},
     "output_type": "execute_result"
    }
   ],
   "source": [
    "population = []\n",
    "initialize(population)\n",
    "len(population)"
   ]
  },
  {
   "cell_type": "code",
   "execution_count": 108,
   "metadata": {},
   "outputs": [],
   "source": [
    "#Creating families with own ids\n",
    "num = 1\n",
    "for child in age_categories['children']:\n",
    "    child.family_status = 'id'+str(num)\n",
    "    if age_categories['fathers'] != []:\n",
    "        age_categories['fathers'][0].family_status = 'id'+str(num)\n",
    "        age_categories['fathers'].pop(0)\n",
    "    else:\n",
    "        child.family_status = False\n",
    "    if age_categories['mothers'] != []:\n",
    "        age_categories['mothers'][0].family_status = 'id'+str(num)\n",
    "        age_categories['mothers'].pop(0)\n",
    "    else:\n",
    "        child.family_status = False    \n",
    "    num += 1"
   ]
  },
  {
   "cell_type": "code",
   "execution_count": 109,
   "metadata": {},
   "outputs": [
    {
     "data": {
      "text/plain": [
       "'id111'"
      ]
     },
     "execution_count": 109,
     "metadata": {},
     "output_type": "execute_result"
    }
   ],
   "source": [
    "age_categories['children'][110].family_status"
   ]
  },
  {
   "cell_type": "code",
   "execution_count": 110,
   "metadata": {},
   "outputs": [
    {
     "data": {
      "text/plain": [
       "168"
      ]
     },
     "execution_count": 110,
     "metadata": {},
     "output_type": "execute_result"
    }
   ],
   "source": [
    "len(age_categories['children'])"
   ]
  },
  {
   "cell_type": "code",
   "execution_count": 111,
   "metadata": {},
   "outputs": [
    {
     "data": {
      "text/plain": [
       "496"
      ]
     },
     "execution_count": 111,
     "metadata": {},
     "output_type": "execute_result"
    }
   ],
   "source": [
    "fs = []\n",
    "not_in_family = []\n",
    "for agent in population:\n",
    "    fs.append(agent.family_status)\n",
    "    if not agent.family_status:\n",
    "        not_in_family.append(agent)\n",
    "len(fs)    \n",
    "len(not_in_family)"
   ]
  },
  {
   "cell_type": "code",
   "execution_count": 112,
   "metadata": {},
   "outputs": [
    {
     "data": {
      "text/plain": [
       "'id5'"
      ]
     },
     "execution_count": 112,
     "metadata": {},
     "output_type": "execute_result"
    }
   ],
   "source": [
    "population[12].family_status"
   ]
  },
  {
   "cell_type": "code",
   "execution_count": null,
   "metadata": {},
   "outputs": [],
   "source": []
  }
 ],
 "metadata": {
  "kernelspec": {
   "display_name": "Python 3",
   "language": "python",
   "name": "python3"
  },
  "language_info": {
   "codemirror_mode": {
    "name": "ipython",
    "version": 3
   },
   "file_extension": ".py",
   "mimetype": "text/x-python",
   "name": "python",
   "nbconvert_exporter": "python",
   "pygments_lexer": "ipython3",
   "version": "3.6.4"
  }
 },
 "nbformat": 4,
 "nbformat_minor": 2
}
