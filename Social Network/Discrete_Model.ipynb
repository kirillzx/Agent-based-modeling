{
 "cells": [
  {
   "cell_type": "markdown",
   "metadata": {},
   "source": [
    "# Agent-based modelling\n",
    "## Discrete Model\n",
    "### Authors: K. Zakharov, D. Sobolev"
   ]
  },
  {
   "cell_type": "code",
   "execution_count": 1,
   "metadata": {},
   "outputs": [],
   "source": [
    "#!pip install ipywidgets\n",
    "import ipywidgets as widgets\n",
    "from ipywidgets import interact, interactive\n",
    "import numpy as np\n",
    "import random\n",
    "from math import sqrt\n",
    "import matplotlib.pyplot as plt\n",
    "from IPython.display import display\n",
    "%matplotlib inline\n",
    "import copy"
   ]
  },
  {
   "cell_type": "code",
   "execution_count": 2,
   "metadata": {},
   "outputs": [],
   "source": [
    "np.random.seed(10)\n",
    "\n",
    "class Agent:\n",
    "    def __init__(self, a_type, x, y):\n",
    "        self.tol = round(np.random.uniform(0,1),2)\n",
    "        self.x = x\n",
    "        self.y = y\n",
    "        self.a_type = a_type\n",
    "        self.location = [self.x, self.y]\n",
    "    #Вычисление евклидового расстояния\n",
    "    def get_distance(self, other):\n",
    "        a = (self.location[0] - other.location[0])**2\n",
    "        b = (self.location[1] - other.location[1])**2\n",
    "        return sqrt(a + b)\n",
    "    #Проверка на то, счастлив ли агент\n",
    "    #если число соседей (которое мы укажем) определенного типа больше чем требуемое количество, то агент счастлив\n",
    "    def happy(self, agents):\n",
    "        distances = []\n",
    "        for agent in agents:\n",
    "            if self != agent:\n",
    "                distance = self.get_distance(agent)\n",
    "                distances.append((distance, agent))\n",
    "        distances.sort(key=lambda x: x[0])\n",
    "        neighbors = [agent for d, agent in distances[:num_neighbors.value]]\n",
    "        num_same_type = sum(self.a_type == agent.a_type for agent in neighbors)\n",
    "        return num_same_type >= require_same_type.value\n",
    "\n",
    "    def update(self, agents, pos_coord):\n",
    "        #Составляем список пустых ячеек\n",
    "        self.pos_coord_loc = copy.deepcopy(pos_coord)\n",
    "        for agent in agents:\n",
    "            self.pos_coord_loc.remove(agent.location)\n",
    "        #Меняется локация, пока агент не станет счастливым    \n",
    "        i = 0\n",
    "        while not self.happy(agents) and i != len(self.pos_coord_loc)-1:\n",
    "            self.location = self.pos_coord_loc[i]\n",
    "            i += 1\n",
    "        \n",
    "def plot_distribution(agents, cycle_num):\n",
    "    x_values_0, y_values_0 = [], []\n",
    "    x_values_1, y_values_1 = [], []\n",
    "    x_values_2, y_values_2 = [], []\n",
    "    for agent in agents:\n",
    "        x, y = agent.location\n",
    "        if agent.a_type == 0:\n",
    "            x_values_0.append(x)\n",
    "            y_values_0.append(y)\n",
    "        elif agent.a_type ==1:\n",
    "            x_values_1.append(x)\n",
    "            y_values_1.append(y)\n",
    "        else:\n",
    "            x_values_2.append(x)\n",
    "            y_values_2.append(y)\n",
    "    fig, ax = plt.subplots(figsize=(8, 8))\n",
    "    plot_args = {'markersize': 8, 'alpha': 1}\n",
    "    ax.set_facecolor('white')\n",
    "    ax.plot(x_values_0, y_values_0, 'o', markerfacecolor='black', **plot_args)\n",
    "    ax.plot(x_values_1, y_values_1, 'o', markerfacecolor='yellow', **plot_args)\n",
    "    ax.plot(x_values_2, y_values_2, 'o', markerfacecolor='lime', **plot_args)\n",
    "    ax.set_title(f'Step {cycle_num-1}')\n",
    "    plt.show()\n",
    "\n",
    "    \n",
    "def function():\n",
    "    #Инициализация переменных\n",
    "    count = 1    \n",
    "    \n",
    "    #Список координат\n",
    "    pos_coord = [[x, y] for x in range(size.value) for y in range(1, size.value+1)]\n",
    "    coord = random.sample(pos_coord, num_of_type_0.value + num_of_type_1.value + num_of_type_2.value)\n",
    "\n",
    "    agents = [Agent(0, coord[i][0], coord[i][1]) for i in range(num_of_type_0.value)]\n",
    "    agents.extend(Agent(1, coord[i + num_of_type_0.value][0], coord[i + num_of_type_0.value][1]) for i in range(num_of_type_1.value))\n",
    "    agents.extend(Agent(2, coord[i + num_of_type_0.value + num_of_type_1.value][0], coord[i + num_of_type_0.value + num_of_type_1.value][1]) for i in range(num_of_type_2.value))\n",
    "    \n",
    "    #plot_distribution(agents,count)\n",
    "    while True:\n",
    "        plot_distribution(agents, count)\n",
    "        count += 1\n",
    "        no_one_moved = True\n",
    "        for agent in agents:\n",
    "            old_location = agent.location\n",
    "            agent.update(agents, pos_coord)\n",
    "            if agent.location != old_location:\n",
    "                no_one_moved = False\n",
    "        if no_one_moved:\n",
    "            break\n"
   ]
  },
  {
   "cell_type": "code",
   "execution_count": 3,
   "metadata": {
    "scrolled": false
   },
   "outputs": [
    {
     "data": {
      "application/vnd.jupyter.widget-view+json": {
       "model_id": "171e94d2338c45c4834ca70ff63b4c4f",
       "version_major": 2,
       "version_minor": 0
      },
      "text/plain": [
       "IntSlider(value=30, description='Size', max=50, min=10)"
      ]
     },
     "metadata": {},
     "output_type": "display_data"
    },
    {
     "data": {
      "application/vnd.jupyter.widget-view+json": {
       "model_id": "0bca123ae5344361b2fcceded591844e",
       "version_major": 2,
       "version_minor": 0
      },
      "text/plain": [
       "IntText(value=200, description='Type 0')"
      ]
     },
     "metadata": {},
     "output_type": "display_data"
    },
    {
     "data": {
      "application/vnd.jupyter.widget-view+json": {
       "model_id": "63d660ddef0c4d428d7ce09052445584",
       "version_major": 2,
       "version_minor": 0
      },
      "text/plain": [
       "IntText(value=200, description='Type 1')"
      ]
     },
     "metadata": {},
     "output_type": "display_data"
    },
    {
     "data": {
      "application/vnd.jupyter.widget-view+json": {
       "model_id": "b0cdf72e00384635be358bbd3ba207cc",
       "version_major": 2,
       "version_minor": 0
      },
      "text/plain": [
       "IntText(value=200, description='Type 2')"
      ]
     },
     "metadata": {},
     "output_type": "display_data"
    },
    {
     "data": {
      "application/vnd.jupyter.widget-view+json": {
       "model_id": "66a87da57b8b47d795698692adb2fea5",
       "version_major": 2,
       "version_minor": 0
      },
      "text/plain": [
       "IntSlider(value=8, description='Neighbours', max=10, min=6)"
      ]
     },
     "metadata": {},
     "output_type": "display_data"
    },
    {
     "data": {
      "application/vnd.jupyter.widget-view+json": {
       "model_id": "9df43462d2a84052aea7e9bc55cd3592",
       "version_major": 2,
       "version_minor": 0
      },
      "text/plain": [
       "IntSlider(value=5, description='Same type', max=6, min=3)"
      ]
     },
     "metadata": {},
     "output_type": "display_data"
    },
    {
     "data": {
      "application/vnd.jupyter.widget-view+json": {
       "model_id": "81d020b5c313448a964e8b036b6bfefd",
       "version_major": 2,
       "version_minor": 0
      },
      "text/plain": [
       "Button(button_style='info', description='Simulate', style=ButtonStyle())"
      ]
     },
     "metadata": {},
     "output_type": "display_data"
    },
    {
     "data": {
      "application/vnd.jupyter.widget-view+json": {
       "model_id": "ab43b1beeea84d56bc1ba39086987983",
       "version_major": 2,
       "version_minor": 0
      },
      "text/plain": [
       "Output()"
      ]
     },
     "metadata": {},
     "output_type": "display_data"
    }
   ],
   "source": [
    "size = widgets.IntSlider(\n",
    "    value=30,\n",
    "    min=10,\n",
    "    max=50,\n",
    "    description='Size')\n",
    "display(size)\n",
    "\n",
    "num_of_type_0 = widgets.IntText(\n",
    "    value=200,\n",
    "    description='Type 0')\n",
    "display(num_of_type_0)\n",
    "\n",
    "num_of_type_1 = widgets.IntText(\n",
    "    value=200,\n",
    "    description='Type 1')\n",
    "display(num_of_type_1)\n",
    "\n",
    "num_of_type_2 = widgets.IntText(\n",
    "    value=200,\n",
    "    description='Type 2')\n",
    "display(num_of_type_2)\n",
    "\n",
    "num_neighbors = widgets.IntSlider(\n",
    "    value = 8,\n",
    "    min=6,\n",
    "    max=10,\n",
    "    description='Neighbours')\n",
    "display(num_neighbors)\n",
    "\n",
    "require_same_type = widgets.IntSlider(\n",
    "    value=5,\n",
    "    min=3,\n",
    "    max=6,\n",
    "    description=\"Same type\")\n",
    "display(require_same_type)\n",
    "\n",
    "button = widgets.Button(description=\"Simulate\", button_style='info')\n",
    "output = widgets.Output()\n",
    "\n",
    "display(button, output)\n",
    "\n",
    "def on_button_clicked(a):\n",
    "    function()\n",
    "    \n",
    "button.on_click(on_button_clicked)"
   ]
  },
  {
   "cell_type": "code",
   "execution_count": null,
   "metadata": {},
   "outputs": [],
   "source": []
  }
 ],
 "metadata": {
  "kernelspec": {
   "display_name": "Python 3",
   "language": "python",
   "name": "python3"
  },
  "language_info": {
   "codemirror_mode": {
    "name": "ipython",
    "version": 3
   },
   "file_extension": ".py",
   "mimetype": "text/x-python",
   "name": "python",
   "nbconvert_exporter": "python",
   "pygments_lexer": "ipython3",
   "version": "3.6.4"
  }
 },
 "nbformat": 4,
 "nbformat_minor": 2
}
